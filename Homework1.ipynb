{
  "nbformat": 4,
  "nbformat_minor": 0,
  "metadata": {
    "colab": {
      "name": "BWT.ipynb",
      "provenance": [],
      "collapsed_sections": []
    },
    "kernelspec": {
      "name": "python3",
      "display_name": "Python 3"
    },
    "accelerator": "GPU"
  },
  "cells": [
    {
      "cell_type": "code",
      "metadata": {
        "id": "aCdFKysxRUng",
        "colab_type": "code",
        "colab": {}
      },
      "source": [
        "import numpy as np\n",
        "import cupy as cp"
      ],
      "execution_count": 0,
      "outputs": []
    },
    {
      "cell_type": "code",
      "metadata": {
        "id": "sJYcW7BVSjhM",
        "colab_type": "code",
        "colab": {}
      },
      "source": [
        "# Функция для прямого преобразования\n",
        "def direct_bwt(string):\n",
        "    # Перевод строки в список чисел по юникоду\n",
        "    str_list = [ord(i) for i in string]\n",
        "\n",
        "    # Переход к массиву на GPU\n",
        "    s_arr = cp.array(str_list)\n",
        "    # Создание матрицы со сдвигом\n",
        "    # Пояснение:\n",
        "    # сдвиг матрицы происходит на устройстве, потом переводится в список на\n",
        "    # хост и затем снова в массив на устройстве (делается из-за проблем с\n",
        "    # отсутствием поддержки типа списков с нечисловыми элементами)\n",
        "    s_mat = cp.array([cp.roll(s_arr, i).tolist() for i\n",
        "                     in range(0, len(s_arr))])\n",
        "    # Сортировка по индексам столбцов\n",
        "    # Пояснение: аналогично вышенаписанному\n",
        "    i = cp.lexsort(cp.array(\n",
        "        [s_mat[:, i].tolist() for i in range(len(s_arr)-1, -1, -1)]))\n",
        "    s_mat = s_mat[i]\n",
        "\n",
        "    # Обратный перевод чисел в симвлы по юникоду\n",
        "    str_list = [chr(i) for i in s_mat[:, -1].tolist()]\n",
        "    return (''.join(str_list),\n",
        "            cp.where(cp.all(s_arr == s_mat, axis=1))[0].item())\n",
        "\n",
        "\n",
        "# Функция для обратного преобразования\n",
        "def inverse_bwt(string, ind):\n",
        "    # Перевод строки в список чисел по юникоду\n",
        "    str_list = [ord(i) for i in string]\n",
        "\n",
        "    # Переход к массиву на GPU\n",
        "    # Массив с последовательностью введенной строки\n",
        "    s_arr = cp.array(str_list)\n",
        "    # отсортированная последовательность\n",
        "    sorted_s = cp.array(sorted(str_list))\n",
        "    # Просто слияние двух предыдущих массивов\n",
        "    tab_s = cp.vstack((s_arr, sorted_s))\n",
        "    for i in range(1, len(s_arr)-1):\n",
        "        # Сортировка, с получением индексов\n",
        "        # массива tab_s для новой строки, хотя фактически - столбца\n",
        "        # (метод .T меняет оси массива местами)\n",
        "        j = cp.lexsort(cp.array([tab_s.T[:, i].tolist() for i\n",
        "                                in range(i, -1, -1)]))\n",
        "        # Добавление отсортированной по j строки к массиву\n",
        "        tab_s = cp.vstack((s_arr, tab_s.T[j].T))\n",
        "    # Сортировка последней строки\n",
        "    j = cp.lexsort(cp.array([tab_s.T[:, i].tolist() for i\n",
        "                            in range(len(s_arr)-1, -1, -1)]))\n",
        "\n",
        "    # Обратный перевод чисел в симвлы по юникоду\n",
        "    str_list = [chr(i) for i in tab_s.T[j][ind]]\n",
        "    return ''.join(str_list)"
      ],
      "execution_count": 0,
      "outputs": []
    },
    {
      "cell_type": "markdown",
      "metadata": {
        "id": "GKqVmPe3Z5Gf",
        "colab_type": "text"
      },
      "source": [
        "### Проведём парочку тестов"
      ]
    },
    {
      "cell_type": "code",
      "metadata": {
        "id": "mP6hvQf4SoKL",
        "colab_type": "code",
        "outputId": "707cda45-f50f-4b28-e2f6-38b5ee06b6bd",
        "colab": {
          "base_uri": "https://localhost:8080/",
          "height": 35
        }
      },
      "source": [
        "direct_bwt('абракадабра')"
      ],
      "execution_count": 3,
      "outputs": [
        {
          "output_type": "execute_result",
          "data": {
            "text/plain": [
              "('рдакраааабб', 2)"
            ]
          },
          "metadata": {
            "tags": []
          },
          "execution_count": 3
        }
      ]
    },
    {
      "cell_type": "code",
      "metadata": {
        "id": "R2w3vf5vZ1Ug",
        "colab_type": "code",
        "outputId": "0137ca6a-0c2d-452a-dd6a-1a6af1fe8365",
        "colab": {
          "base_uri": "https://localhost:8080/",
          "height": 35
        }
      },
      "source": [
        "inverse_bwt('рдакраааабб', 2)"
      ],
      "execution_count": 4,
      "outputs": [
        {
          "output_type": "execute_result",
          "data": {
            "text/plain": [
              "'абракадабра'"
            ]
          },
          "metadata": {
            "tags": []
          },
          "execution_count": 4
        }
      ]
    },
    {
      "cell_type": "code",
      "metadata": {
        "id": "o5pdV3zWTdW_",
        "colab_type": "code",
        "outputId": "34152685-3fdc-4233-c3d2-88c76a606bc0",
        "colab": {
          "base_uri": "https://localhost:8080/",
          "height": 35
        }
      },
      "source": [
        "direct_bwt('SIX.MIXED.PIXIES.SIFT.SIXTY.PIXIE.DUST.BOXES')"
      ],
      "execution_count": 5,
      "outputs": [
        {
          "output_type": "execute_result",
          "data": {
            "text/plain": [
              "('TEXYDST.E.IXIXIXXSSMPPS.B..E.S.EUSFXDIIOIIIT', 29)"
            ]
          },
          "metadata": {
            "tags": []
          },
          "execution_count": 5
        }
      ]
    },
    {
      "cell_type": "code",
      "metadata": {
        "id": "U7QlMsdzTEdM",
        "colab_type": "code",
        "outputId": "0a253e66-99fb-40e5-eee7-72403f8cf8a1",
        "colab": {
          "base_uri": "https://localhost:8080/",
          "height": 35
        }
      },
      "source": [
        "inverse_bwt('TEXYDST.E.IXIXIXXSSMPPS.B..E.S.EUSFXDIIOIIIT', 29)"
      ],
      "execution_count": 6,
      "outputs": [
        {
          "output_type": "execute_result",
          "data": {
            "text/plain": [
              "'SIX.MIXED.PIXIES.SIFT.SIXTY.PIXIE.DUST.BOXES'"
            ]
          },
          "metadata": {
            "tags": []
          },
          "execution_count": 6
        }
      ]
    }
  ]
}