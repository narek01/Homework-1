{
 "cells": [
  {
   "cell_type": "code",
   "execution_count": 2,
   "metadata": {},
   "outputs": [
    {
     "name": "stderr",
     "output_type": "stream",
     "text": [
      "usage: ipykernel_launcher.py [-h] [-i INDEX] STRING\n",
      "ipykernel_launcher.py: error: unrecognized arguments: -f\n"
     ]
    },
    {
     "ename": "SystemExit",
     "evalue": "2",
     "output_type": "error",
     "traceback": [
      "An exception has occurred, use %tb to see the full traceback.\n",
      "\u001b[1;31mSystemExit\u001b[0m\u001b[1;31m:\u001b[0m 2\n"
     ]
    }
   ],
   "source": [
    "import argparse\n",
    "\n",
    "def bw_transform(s):\n",
    "    n = len(s)\n",
    "    m = sorted([s[i:n]+s[0:i] for i in range(n)])\n",
    "    I = m.index(s)\n",
    "    L = ''.join([q[-1] for q in m])\n",
    "    return (I, L)\n",
    "\n",
    "from operator import itemgetter\n",
    "\n",
    "def bw_restore(I, L):\n",
    "    n = len(L)\n",
    "    X = sorted([(i, x) for i, x in enumerate(L)], key=itemgetter(1))\n",
    "\n",
    "    T = [None for i in range(n)]\n",
    "    for i, y in enumerate(X):\n",
    "        j, _ = y\n",
    "        T[j] = i\n",
    "\n",
    "    Tx = [I]\n",
    "    for i in range(1, n):\n",
    "        Tx.append(T[Tx[i-1]])\n",
    "\n",
    "    S = [L[i] for i in Tx]\n",
    "    S.reverse()\n",
    "    return ''.join(S)\n",
    "\n",
    "if __name__ == \"__main__\":\n",
    "    parser = argparse.ArgumentParser(\n",
    "        description='Transforms strings using Burrows-Wheeler transform')\n",
    "    parser.add_argument('-i', '--index', metavar=\"INDEX\", help='Performs ' +\n",
    "        'inverse BWT. A transform index must be specified as an INDEX value.')\n",
    "    parser.add_argument('STRING', type=str, help='Transform this string.')\n",
    "    args = parser.parse_args()\n",
    "\n",
    "    if args.index:\n",
    "        print(bw_restore(args.index, args.STRING))\n",
    "    else:\n",
    "        print(\"%d %s\" % bw_transform(args.STRING))"
   ]
  },
  {
   "cell_type": "code",
   "execution_count": null,
   "metadata": {},
   "outputs": [],
   "source": []
  }
 ],
 "metadata": {
  "kernelspec": {
   "display_name": "Python 3",
   "language": "python",
   "name": "python3"
  },
  "language_info": {
   "codemirror_mode": {
    "name": "ipython",
    "version": 3
   },
   "file_extension": ".py",
   "mimetype": "text/x-python",
   "name": "python",
   "nbconvert_exporter": "python",
   "pygments_lexer": "ipython3",
   "version": "3.7.4"
  }
 },
 "nbformat": 4,
 "nbformat_minor": 4
}
